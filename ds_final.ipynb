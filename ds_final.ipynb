{
  "nbformat": 4,
  "nbformat_minor": 0,
  "metadata": {
    "colab": {
      "provenance": []
    },
    "kernelspec": {
      "name": "python3",
      "display_name": "Python 3"
    },
    "language_info": {
      "name": "python"
    }
  },
  "cells": [
    {
      "cell_type": "code",
      "source": [
        "!pip install faker"
      ],
      "metadata": {
        "colab": {
          "base_uri": "https://localhost:8080/"
        },
        "id": "jyf7Fk53GFL5",
        "outputId": "3c90ec86-33e4-4689-c13e-f2de6143f7f0"
      },
      "execution_count": 2,
      "outputs": [
        {
          "output_type": "stream",
          "name": "stdout",
          "text": [
            "Collecting faker\n",
            "  Downloading Faker-33.1.0-py3-none-any.whl.metadata (15 kB)\n",
            "Requirement already satisfied: python-dateutil>=2.4 in /usr/local/lib/python3.10/dist-packages (from faker) (2.8.2)\n",
            "Requirement already satisfied: typing-extensions in /usr/local/lib/python3.10/dist-packages (from faker) (4.12.2)\n",
            "Requirement already satisfied: six>=1.5 in /usr/local/lib/python3.10/dist-packages (from python-dateutil>=2.4->faker) (1.17.0)\n",
            "Downloading Faker-33.1.0-py3-none-any.whl (1.9 MB)\n",
            "\u001b[2K   \u001b[90m━━━━━━━━━━━━━━━━━━━━━━━━━━━━━━━━━━━━━━━━\u001b[0m \u001b[32m1.9/1.9 MB\u001b[0m \u001b[31m19.8 MB/s\u001b[0m eta \u001b[36m0:00:00\u001b[0m\n",
            "\u001b[?25hInstalling collected packages: faker\n",
            "Successfully installed faker-33.1.0\n"
          ]
        }
      ]
    },
    {
      "cell_type": "code",
      "execution_count": 8,
      "metadata": {
        "id": "NH97vC0UFyNr"
      },
      "outputs": [],
      "source": [
        "import pandas as pd\n",
        "import numpy as np\n",
        "import random\n",
        "from faker import Faker"
      ]
    },
    {
      "cell_type": "code",
      "source": [
        "# Initialize Faker\n",
        "faker = Faker()\n",
        "\n",
        "# Number of rows\n",
        "num_rows = random.randint(1000, 1300)\n",
        "\n",
        "# Define features\n",
        "plant_types = [\"Wheat\", \"Rice\", \"Tomato\", \"Corn\", \"Potato\"]\n",
        "regions = [\"North\", \"South\", \"East\", \"West\"]\n",
        "soil_types = [\"Sandy\", \"Loamy\", \"Clay\", \"Silty\"]\n",
        "disease_types = [\"Fungal\", \"Bacterial\", \"Viral\", \"None\"]\n",
        "\n",
        "# Generate synthetic dataset\n",
        "data = {\n",
        "    \"Plant Type\": [random.choice(plant_types) for _ in range(num_rows)],\n",
        "    \"Region\": [random.choice(regions) for _ in range(num_rows)],\n",
        "    \"Soil Type\": [random.choice(soil_types) for _ in range(num_rows)],\n",
        "    \"Temperature (C)\": [round(random.uniform(15, 40), 2) for _ in range(num_rows)],\n",
        "    \"Humidity (%)\": [round(random.uniform(30, 90), 2) for _ in range(num_rows)],\n",
        "    \"Rainfall (mm)\": [round(random.uniform(500, 2000), 2) for _ in range(num_rows)],\n",
        "    \"pH Level\": [round(random.uniform(4.5, 8.5), 2) for _ in range(num_rows)],\n",
        "    \"Nutrient Level\": [round(random.uniform(10, 100), 2) for _ in range(num_rows)],\n",
        "    \"Sunlight Exposure (hrs)\": [round(random.uniform(4, 12), 2) for _ in range(num_rows)],\n",
        "    \"Pest Presence\": [random.choice([\"Yes\", \"No\"]) for _ in range(num_rows)],\n",
        "    \"Disease Symptoms\": [random.choice([\"Spots\", \"Discoloration\", \"Wilting\", \"None\"]) for _ in range(num_rows)],\n",
        "    \"Leaf Area (cm²)\": [round(random.uniform(20, 200), 2) for _ in range(num_rows)],\n",
        "    \"Disease Type\": [random.choice(disease_types) for _ in range(num_rows)],\n",
        "    \"Yield (kg/acre)\": [round(random.uniform(500, 3000), 2) for _ in range(num_rows)],\n",
        "    \"Disease Severity\": [random.choice(range(1, 11)) for _ in range(num_rows)],\n",
        "}\n",
        "\n",
        "# Create DataFrame\n",
        "df = pd.DataFrame(data)"
      ],
      "metadata": {
        "id": "kFgz5bQcF3DP"
      },
      "execution_count": 21,
      "outputs": []
    },
    {
      "cell_type": "code",
      "source": [
        "# Introduce inconsistencies\n",
        "# 1. Missing values\n",
        "for _ in range(int(0.05 * num_rows)):  # 5% missing values\n",
        "    df.iloc[random.randint(0, num_rows - 1), random.randint(0, len(df.columns) - 1)] = np.nan\n",
        "\n",
        "# 2. Duplicates\n",
        "df = pd.concat([df, df.sample(10)])  # Add 10 duplicate rows\n",
        "\n",
        "# 3. Outliers\n",
        "df.loc[random.sample(range(num_rows), 5), \"Temperature (C)\"] = [random.uniform(50, 70) for _ in range(5)]  # Unrealistic temperatures\n",
        "\n",
        "# Save to CSV\n",
        "df.to_csv(\"synthetic_plant_disease_dataset.csv\", index=False)\n",
        "\n",
        "print(f\"Dataset generated with {len(df)} rows.\")"
      ],
      "metadata": {
        "colab": {
          "base_uri": "https://localhost:8080/"
        },
        "id": "Gw83MtYsGOr6",
        "outputId": "e79e5cb6-69b6-4d66-8300-60ca13265643"
      },
      "execution_count": 22,
      "outputs": [
        {
          "output_type": "stream",
          "name": "stdout",
          "text": [
            "Dataset generated with 1147 rows.\n"
          ]
        }
      ]
    },
    {
      "cell_type": "code",
      "source": [
        "print(df.columns)"
      ],
      "metadata": {
        "colab": {
          "base_uri": "https://localhost:8080/"
        },
        "id": "orM0bfnSIsSP",
        "outputId": "4741defa-1698-4131-a4d6-7e95a6f319ad"
      },
      "execution_count": 19,
      "outputs": [
        {
          "output_type": "stream",
          "name": "stdout",
          "text": [
            "Index(['Temperature (C)', 'Humidity (%)', 'Rainfall (mm)', 'pH Level',\n",
            "       'Nutrient Level', 'Sunlight Exposure (hrs)', 'Leaf Area (cm²)',\n",
            "       'Yield (kg/acre)', 'Disease Severity', 'Plant Type_Potato',\n",
            "       'Plant Type_Rice', 'Plant Type_Tomato', 'Plant Type_Wheat',\n",
            "       'Region_North', 'Region_South', 'Region_West', 'Soil Type_Loamy',\n",
            "       'Soil Type_Sandy', 'Soil Type_Silty', 'Pest Presence_Yes',\n",
            "       'Disease Symptoms_Spots', 'Disease Symptoms_Wilting',\n",
            "       'Disease Type_Fungal', 'Disease Type_Viral'],\n",
            "      dtype='object')\n"
          ]
        }
      ]
    },
    {
      "cell_type": "code",
      "source": [
        "from sklearn.model_selection import train_test_split\n",
        "from sklearn.ensemble import RandomForestClassifier\n",
        "from sklearn.metrics import accuracy_score, classification_report\n",
        "\n",
        "# Load the dataset\n",
        "df = pd.read_csv(\"synthetic_plant_disease_dataset.csv\")\n",
        "\n",
        "# Drop rows with missing target values\n",
        "df = df.dropna(subset=[\"Disease Type\"])\n",
        "\n",
        "# Encode categorical variables\n",
        "categorical_columns = [\"Plant Type\", \"Region\", \"Soil Type\", \"Pest Presence\", \"Disease Symptoms\", \"Disease Type\"]\n",
        "df = pd.get_dummies(df, columns=categorical_columns, drop_first=True)\n",
        "\n",
        "\n",
        "# Split into features and target\n",
        "target_column = \"Disease Type_Fungal\"  # Example target: one-hot encoded bacterial disease\n",
        "y = df[target_column]\n",
        "X = df.drop(columns=[col for col in df.columns if \"Disease Type\" in col])\n",
        "\n",
        "# Train-test split\n",
        "X_train, X_test, y_train, y_test = train_test_split(X, y, test_size=0.2, random_state=42)\n",
        "\n",
        "# Train a Random Forest Classifier\n",
        "rf_clf = RandomForestClassifier(random_state=42)\n",
        "rf_clf.fit(X_train, y_train)\n",
        "\n",
        "# Make predictions\n",
        "y_pred = rf_clf.predict(X_test)\n",
        "\n",
        "# Evaluate the model\n",
        "accuracy = accuracy_score(y_test, y_pred)\n",
        "print(f\"Accuracy on raw dataset: {accuracy:.2f}\")\n",
        "print(\"\\nClassification Report:\\n\", classification_report(y_test, y_pred))"
      ],
      "metadata": {
        "colab": {
          "base_uri": "https://localhost:8080/"
        },
        "id": "Cu_23Qw5HSL_",
        "outputId": "c327d153-2b25-4fff-b609-6ce8c508f94c"
      },
      "execution_count": 25,
      "outputs": [
        {
          "output_type": "stream",
          "name": "stdout",
          "text": [
            "Accuracy on raw dataset: 0.60\n",
            "\n",
            "Classification Report:\n",
            "               precision    recall  f1-score   support\n",
            "\n",
            "       False       0.61      0.95      0.74       105\n",
            "        True       0.50      0.07      0.12        70\n",
            "\n",
            "    accuracy                           0.60       175\n",
            "   macro avg       0.55      0.51      0.43       175\n",
            "weighted avg       0.56      0.60      0.49       175\n",
            "\n"
          ]
        }
      ]
    },
    {
      "cell_type": "code",
      "source": [
        "# Handle missing data (impute or drop)\n",
        "df.fillna(df.mean(), inplace=True)  # For numerical columns, use mean to fill missing values\n",
        "\n",
        "# Handle duplicates\n",
        "df = df.drop_duplicates()\n",
        "\n",
        "# Feature scaling (normalize numerical features)\n",
        "from sklearn.preprocessing import StandardScaler\n",
        "scaler = StandardScaler()\n",
        "numerical_columns = [\"Temperature (C)\", \"Humidity (%)\", \"Rainfall (mm)\", \"pH Level\", \"Nutrient Level\", \"Sunlight Exposure (hrs)\", \"Leaf Area (cm²)\", \"Yield (kg/acre)\", \"Disease Severity\"]\n",
        "df[numerical_columns] = scaler.fit_transform(df[numerical_columns])\n",
        "\n",
        "categorical_columns = [col for col in df.columns if col.startswith(('Plant Type_', 'Region_', 'Soil Type_', 'Pest Presence_', 'Disease Symptoms_'))]\n",
        "# Encode categorical variables\n",
        "df = pd.get_dummies(df, columns=categorical_columns, drop_first=True)\n",
        "\n",
        "# Check the processed dataset\n",
        "print(df.head())"
      ],
      "metadata": {
        "colab": {
          "base_uri": "https://localhost:8080/"
        },
        "id": "yjebkkSIHa0z",
        "outputId": "e750fbb0-1f1c-4b74-ea6d-ce1562561a15"
      },
      "execution_count": 27,
      "outputs": [
        {
          "output_type": "stream",
          "name": "stdout",
          "text": [
            "   Temperature (C)  Humidity (%)  Rainfall (mm)  pH Level  Nutrient Level  \\\n",
            "0         1.619745     -0.507429      -0.522609  1.486538        0.606281   \n",
            "1        -0.801078     -0.882172      -0.335658  1.729539       -0.326071   \n",
            "2         0.444640     -0.693952      -0.402409 -0.500861       -0.078225   \n",
            "4         0.031621      1.434677       0.748358  0.419070        1.144730   \n",
            "5        -1.369978      1.380981      -1.181841  1.365037       -1.119554   \n",
            "\n",
            "   Sunlight Exposure (hrs)  Leaf Area (cm²)  Yield (kg/acre)  \\\n",
            "0                -1.577518        -0.850496         0.306997   \n",
            "1                -0.667483        -0.545014        -0.266045   \n",
            "2                 1.471525        -0.757581        -0.371213   \n",
            "4                 0.297835        -1.329105        -1.575618   \n",
            "5                 1.216375         1.663146        -0.411463   \n",
            "\n",
            "   Disease Severity  Disease Type_Fungal  ...  Plant Type_Wheat_True  \\\n",
            "0         -1.519999                False  ...                  False   \n",
            "1          1.249639                 True  ...                   True   \n",
            "2          1.249639                False  ...                  False   \n",
            "4          0.557230                False  ...                  False   \n",
            "5         -0.481385                 True  ...                  False   \n",
            "\n",
            "   Region_North_True  Region_South_True  Region_West_True  \\\n",
            "0              False               True             False   \n",
            "1               True              False             False   \n",
            "2              False              False              True   \n",
            "4              False              False             False   \n",
            "5              False              False             False   \n",
            "\n",
            "   Soil Type_Loamy_True  Soil Type_Sandy_True  Soil Type_Silty_True  \\\n",
            "0                  True                 False                 False   \n",
            "1                  True                 False                 False   \n",
            "2                 False                 False                 False   \n",
            "4                 False                 False                  True   \n",
            "5                 False                 False                 False   \n",
            "\n",
            "   Pest Presence_Yes_True  Disease Symptoms_Spots_True  \\\n",
            "0                    True                        False   \n",
            "1                    True                        False   \n",
            "2                   False                        False   \n",
            "4                   False                        False   \n",
            "5                   False                        False   \n",
            "\n",
            "   Disease Symptoms_Wilting_True  \n",
            "0                           True  \n",
            "1                          False  \n",
            "2                           True  \n",
            "4                           True  \n",
            "5                          False  \n",
            "\n",
            "[5 rows x 24 columns]\n"
          ]
        }
      ]
    },
    {
      "cell_type": "code",
      "source": [
        "# Split into features and target\n",
        "y = df[target_column]\n",
        "X = df.drop(columns=[col for col in df.columns if \"Disease Type\" in col])\n",
        "\n",
        "# Train-test split\n",
        "X_train, X_test, y_train, y_test = train_test_split(X, y, test_size=0.2, random_state=42)\n",
        "\n",
        "# Train the Random Forest Classifier\n",
        "rf_clf = RandomForestClassifier(random_state=42)\n",
        "rf_clf.fit(X_train, y_train)\n",
        "\n",
        "# Make predictions\n",
        "y_pred = rf_clf.predict(X_test)\n",
        "\n",
        "# Evaluate the model\n",
        "accuracy = accuracy_score(y_test, y_pred)\n",
        "print(f\"Accuracy on preprocessed dataset: {accuracy:.2f}\")\n",
        "print(\"\\nClassification Report:\\n\", classification_report(y_test, y_pred))"
      ],
      "metadata": {
        "colab": {
          "base_uri": "https://localhost:8080/"
        },
        "id": "6TcZ_AwULgIT",
        "outputId": "8f0b7a73-ed31-4f8d-cb91-e60abf029229"
      },
      "execution_count": 28,
      "outputs": [
        {
          "output_type": "stream",
          "name": "stdout",
          "text": [
            "Accuracy on preprocessed dataset: 0.67\n",
            "\n",
            "Classification Report:\n",
            "               precision    recall  f1-score   support\n",
            "\n",
            "       False       0.70      0.94      0.80       121\n",
            "        True       0.22      0.04      0.07        52\n",
            "\n",
            "    accuracy                           0.67       173\n",
            "   macro avg       0.46      0.49      0.43       173\n",
            "weighted avg       0.55      0.67      0.58       173\n",
            "\n"
          ]
        }
      ]
    },
    {
      "cell_type": "code",
      "source": [
        "import matplotlib.pyplot as plt\n",
        "import seaborn as sns\n",
        "\n",
        "# Data for comparison (replace these with your actual accuracy values)\n",
        "accuracy_raw = 0.60  # Accuracy on raw dataset\n",
        "accuracy_preprocessed = 0.67  # Accuracy on preprocessed dataset\n",
        "\n",
        "# Create a DataFrame for plotting\n",
        "accuracy_data = {\n",
        "    \"Dataset\": [\"Raw\", \"Preprocessed\"],\n",
        "    \"Accuracy\": [accuracy_raw, accuracy_preprocessed]\n",
        "}\n",
        "\n",
        "accuracy_df = pd.DataFrame(accuracy_data)\n",
        "\n",
        "# Plot the bar chart\n",
        "plt.figure(figsize=(8, 6))\n",
        "sns.barplot(x=\"Dataset\", y=\"Accuracy\", data=accuracy_df, palette=\"viridis\")\n",
        "plt.title(\"Model Accuracy: Raw vs Preprocessed Dataset\")\n",
        "plt.ylim(0, 1)\n",
        "plt.ylabel(\"Accuracy\")\n",
        "plt.show()"
      ],
      "metadata": {
        "colab": {
          "base_uri": "https://localhost:8080/",
          "height": 655
        },
        "id": "3xqHFdZSL-4D",
        "outputId": "b9aa174b-1ccb-4669-861c-256f0afd4dd4"
      },
      "execution_count": 31,
      "outputs": [
        {
          "output_type": "stream",
          "name": "stderr",
          "text": [
            "<ipython-input-31-b7f7b6c12b27>:18: FutureWarning: \n",
            "\n",
            "Passing `palette` without assigning `hue` is deprecated and will be removed in v0.14.0. Assign the `x` variable to `hue` and set `legend=False` for the same effect.\n",
            "\n",
            "  sns.barplot(x=\"Dataset\", y=\"Accuracy\", data=accuracy_df, palette=\"viridis\")\n"
          ]
        },
        {
          "output_type": "display_data",
          "data": {
            "text/plain": [
              "<Figure size 800x600 with 1 Axes>"
            ],
            "image/png": "[encoded data removed]"
          },
          "metadata": {}
        }
      ]
    },
    {
      "cell_type": "code",
      "source": [
        "!pip install streamlit"
      ],
      "metadata": {
        "colab": {
          "base_uri": "https://localhost:8080/"
        },
        "id": "GO9fc_MXN9tV",
        "outputId": "cb7f3a4c-f4d7-48c7-8f18-a31ccbba9bfa"
      },
      "execution_count": 34,
      "outputs": [
        {
          "output_type": "stream",
          "name": "stdout",
          "text": [
            "Collecting streamlit\n",
            "  Downloading streamlit-1.41.1-py2.py3-none-any.whl.metadata (8.5 kB)\n",
            "Requirement already satisfied: altair<6,>=4.0 in /usr/local/lib/python3.10/dist-packages (from streamlit) (5.5.0)\n",
            "Requirement already satisfied: blinker<2,>=1.0.0 in /usr/local/lib/python3.10/dist-packages (from streamlit) (1.9.0)\n",
            "Requirement already satisfied: cachetools<6,>=4.0 in /usr/local/lib/python3.10/dist-packages (from streamlit) (5.5.0)\n",
            "Requirement already satisfied: click<9,>=7.0 in /usr/local/lib/python3.10/dist-packages (from streamlit) (8.1.7)\n",
            "Requirement already satisfied: numpy<3,>=1.23 in /usr/local/lib/python3.10/dist-packages (from streamlit) (1.26.4)\n",
            "Requirement already satisfied: packaging<25,>=20 in /usr/local/lib/python3.10/dist-packages (from streamlit) (24.2)\n",
            "Requirement already satisfied: pandas<3,>=1.4.0 in /usr/local/lib/python3.10/dist-packages (from streamlit) (2.2.2)\n",
            "Requirement already satisfied: pillow<12,>=7.1.0 in /usr/local/lib/python3.10/dist-packages (from streamlit) (11.0.0)\n",
            "Requirement already satisfied: protobuf<6,>=3.20 in /usr/local/lib/python3.10/dist-packages (from streamlit) (4.25.5)\n",
            "Requirement already satisfied: pyarrow>=7.0 in /usr/local/lib/python3.10/dist-packages (from streamlit) (17.0.0)\n",
            "Requirement already satisfied: requests<3,>=2.27 in /usr/local/lib/python3.10/dist-packages (from streamlit) (2.32.3)\n",
            "Requirement already satisfied: rich<14,>=10.14.0 in /usr/local/lib/python3.10/dist-packages (from streamlit) (13.9.4)\n",
            "Requirement already satisfied: tenacity<10,>=8.1.0 in /usr/local/lib/python3.10/dist-packages (from streamlit) (9.0.0)\n",
            "Requirement already satisfied: toml<2,>=0.10.1 in /usr/local/lib/python3.10/dist-packages (from streamlit) (0.10.2)\n",
            "Requirement already satisfied: typing-extensions<5,>=4.3.0 in /usr/local/lib/python3.10/dist-packages (from streamlit) (4.12.2)\n",
            "Collecting watchdog<7,>=2.1.5 (from streamlit)\n",
            "  Downloading watchdog-6.0.0-py3-none-manylinux2014_x86_64.whl.metadata (44 kB)\n",
            "\u001b[2K     \u001b[90m━━━━━━━━━━━━━━━━━━━━━━━━━━━━━━━━━━━━━━━━\u001b[0m \u001b[32m44.3/44.3 kB\u001b[0m \u001b[31m1.8 MB/s\u001b[0m eta \u001b[36m0:00:00\u001b[0m\n",
            "\u001b[?25hRequirement already satisfied: gitpython!=3.1.19,<4,>=3.0.7 in /usr/local/lib/python3.10/dist-packages (from streamlit) (3.1.43)\n",
            "Collecting pydeck<1,>=0.8.0b4 (from streamlit)\n",
            "  Downloading pydeck-0.9.1-py2.py3-none-any.whl.metadata (4.1 kB)\n",
            "Requirement already satisfied: tornado<7,>=6.0.3 in /usr/local/lib/python3.10/dist-packages (from streamlit) (6.3.3)\n",
            "Requirement already satisfied: jinja2 in /usr/local/lib/python3.10/dist-packages (from altair<6,>=4.0->streamlit) (3.1.4)\n",
            "Requirement already satisfied: jsonschema>=3.0 in /usr/local/lib/python3.10/dist-packages (from altair<6,>=4.0->streamlit) (4.23.0)\n",
            "Requirement already satisfied: narwhals>=1.14.2 in /usr/local/lib/python3.10/dist-packages (from altair<6,>=4.0->streamlit) (1.18.4)\n",
            "Requirement already satisfied: gitdb<5,>=4.0.1 in /usr/local/lib/python3.10/dist-packages (from gitpython!=3.1.19,<4,>=3.0.7->streamlit) (4.0.11)\n",
            "Requirement already satisfied: python-dateutil>=2.8.2 in /usr/local/lib/python3.10/dist-packages (from pandas<3,>=1.4.0->streamlit) (2.8.2)\n",
            "Requirement already satisfied: pytz>=2020.1 in /usr/local/lib/python3.10/dist-packages (from pandas<3,>=1.4.0->streamlit) (2024.2)\n",
            "Requirement already satisfied: tzdata>=2022.7 in /usr/local/lib/python3.10/dist-packages (from pandas<3,>=1.4.0->streamlit) (2024.2)\n",
            "Requirement already satisfied: charset-normalizer<4,>=2 in /usr/local/lib/python3.10/dist-packages (from requests<3,>=2.27->streamlit) (3.4.0)\n",
            "Requirement already satisfied: idna<4,>=2.5 in /usr/local/lib/python3.10/dist-packages (from requests<3,>=2.27->streamlit) (3.10)\n",
            "Requirement already satisfied: urllib3<3,>=1.21.1 in /usr/local/lib/python3.10/dist-packages (from requests<3,>=2.27->streamlit) (2.2.3)\n",
            "Requirement already satisfied: certifi>=2017.4.17 in /usr/local/lib/python3.10/dist-packages (from requests<3,>=2.27->streamlit) (2024.12.14)\n",
            "Requirement already satisfied: markdown-it-py>=2.2.0 in /usr/local/lib/python3.10/dist-packages (from rich<14,>=10.14.0->streamlit) (3.0.0)\n",
            "Requirement already satisfied: pygments<3.0.0,>=2.13.0 in /usr/local/lib/python3.10/dist-packages (from rich<14,>=10.14.0->streamlit) (2.18.0)\n",
            "Requirement already satisfied: smmap<6,>=3.0.1 in /usr/local/lib/python3.10/dist-packages (from gitdb<5,>=4.0.1->gitpython!=3.1.19,<4,>=3.0.7->streamlit) (5.0.1)\n",
            "Requirement already satisfied: MarkupSafe>=2.0 in /usr/local/lib/python3.10/dist-packages (from jinja2->altair<6,>=4.0->streamlit) (3.0.2)\n",
            "Requirement already satisfied: attrs>=22.2.0 in /usr/local/lib/python3.10/dist-packages (from jsonschema>=3.0->altair<6,>=4.0->streamlit) (24.3.0)\n",
            "Requirement already satisfied: jsonschema-specifications>=2023.03.6 in /usr/local/lib/python3.10/dist-packages (from jsonschema>=3.0->altair<6,>=4.0->streamlit) (2024.10.1)\n",
            "Requirement already satisfied: referencing>=0.28.4 in /usr/local/lib/python3.10/dist-packages (from jsonschema>=3.0->altair<6,>=4.0->streamlit) (0.35.1)\n",
            "Requirement already satisfied: rpds-py>=0.7.1 in /usr/local/lib/python3.10/dist-packages (from jsonschema>=3.0->altair<6,>=4.0->streamlit) (0.22.3)\n",
            "Requirement already satisfied: mdurl~=0.1 in /usr/local/lib/python3.10/dist-packages (from markdown-it-py>=2.2.0->rich<14,>=10.14.0->streamlit) (0.1.2)\n",
            "Requirement already satisfied: six>=1.5 in /usr/local/lib/python3.10/dist-packages (from python-dateutil>=2.8.2->pandas<3,>=1.4.0->streamlit) (1.17.0)\n",
            "Downloading streamlit-1.41.1-py2.py3-none-any.whl (9.1 MB)\n",
            "\u001b[2K   \u001b[90m━━━━━━━━━━━━━━━━━━━━━━━━━━━━━━━━━━━━━━━━\u001b[0m \u001b[32m9.1/9.1 MB\u001b[0m \u001b[31m43.2 MB/s\u001b[0m eta \u001b[36m0:00:00\u001b[0m\n",
            "\u001b[?25hDownloading pydeck-0.9.1-py2.py3-none-any.whl (6.9 MB)\n",
            "\u001b[2K   \u001b[90m━━━━━━━━━━━━━━━━━━━━━━━━━━━━━━━━━━━━━━━━\u001b[0m \u001b[32m6.9/6.9 MB\u001b[0m \u001b[31m57.7 MB/s\u001b[0m eta \u001b[36m0:00:00\u001b[0m\n",
            "\u001b[?25hDownloading watchdog-6.0.0-py3-none-manylinux2014_x86_64.whl (79 kB)\n",
            "\u001b[2K   \u001b[90m━━━━━━━━━━━━━━━━━━━━━━━━━━━━━━━━━━━━━━━━\u001b[0m \u001b[32m79.1/79.1 kB\u001b[0m \u001b[31m5.8 MB/s\u001b[0m eta \u001b[36m0:00:00\u001b[0m\n",
            "\u001b[?25hInstalling collected packages: watchdog, pydeck, streamlit\n",
            "Successfully installed pydeck-0.9.1 streamlit-1.41.1 watchdog-6.0.0\n"
          ]
        }
      ]
    },
    {
      "cell_type": "code",
      "source": [
        "import streamlit as st\n",
        "import matplotlib.pyplot as plt\n",
        "\n",
        "# Streamlit app code to create the dashboard\n",
        "st.title('Plant Disease Detection Dashboard')\n",
        "\n",
        "# Display data distributions\n",
        "st.subheader('Data Distribution Before and After Preprocessing')\n",
        "\n",
        "# Display raw dataset distribution\n",
        "st.write(\"Raw Data Distribution:\")\n",
        "st.write(df.describe())\n",
        "\n",
        "# Model accuracy comparison\n",
        "st.subheader('Model Accuracy Comparison')\n",
        "st.write(f\"Accuracy on Raw Dataset: {accuracy_raw:.2f}\")\n",
        "st.write(f\"Accuracy on Preprocessed Dataset: {accuracy_preprocessed:.2f}\")\n",
        "\n",
        "# Visualize feature importance for Random Forest\n",
        "feature_importance = rf_clf.feature_importances_\n",
        "features = X.columns\n",
        "\n",
        "plt.barh(features, feature_importance)\n",
        "plt.xlabel('Feature Importance')\n",
        "plt.ylabel('Features')\n",
        "plt.title('Feature Importance - Random Forest')\n",
        "st.pyplot()\n",
        "\n",
        "# Show more visualizations and performance metrics\n",
        "st.subheader('Classification Report')\n",
        "st.text(classification_report(y_test, y_pred))"
      ],
      "metadata": {
        "colab": {
          "base_uri": "https://localhost:8080/",
          "height": 1000
        },
        "id": "KPjIhm4UODWr",
        "outputId": "8d560b55-02ae-478c-c530-f177cff63543"
      },
      "execution_count": 35,
      "outputs": [
        {
          "output_type": "stream",
          "name": "stderr",
          "text": [
            "2024-12-22 07:15:33.184 WARNING streamlit.runtime.scriptrunner_utils.script_run_context: Thread 'MainThread': missing ScriptRunContext! This warning can be ignored when running in bare mode.\n",
            "2024-12-22 07:15:33.553 \n",
            "  \u001b[33m\u001b[1mWarning:\u001b[0m to view this Streamlit app on a browser, run it with the following\n",
            "  command:\n",
            "\n",
            "    streamlit run /usr/local/lib/python3.10/dist-packages/colab_kernel_launcher.py [ARGUMENTS]\n",
            "2024-12-22 07:15:33.556 Thread 'MainThread': missing ScriptRunContext! This warning can be ignored when running in bare mode.\n",
            "2024-12-22 07:15:33.561 Thread 'MainThread': missing ScriptRunContext! This warning can be ignored when running in bare mode.\n",
            "2024-12-22 07:15:33.564 Thread 'MainThread': missing ScriptRunContext! This warning can be ignored when running in bare mode.\n",
            "2024-12-22 07:15:33.572 Thread 'MainThread': missing ScriptRunContext! This warning can be ignored when running in bare mode.\n",
            "2024-12-22 07:15:33.578 Thread 'MainThread': missing ScriptRunContext! This warning can be ignored when running in bare mode.\n",
            "2024-12-22 07:15:33.582 Thread 'MainThread': missing ScriptRunContext! This warning can be ignored when running in bare mode.\n",
            "2024-12-22 07:15:33.589 Thread 'MainThread': missing ScriptRunContext! This warning can be ignored when running in bare mode.\n",
            "2024-12-22 07:15:33.756 Thread 'MainThread': missing ScriptRunContext! This warning can be ignored when running in bare mode.\n",
            "2024-12-22 07:15:33.758 Thread 'MainThread': missing ScriptRunContext! This warning can be ignored when running in bare mode.\n",
            "2024-12-22 07:15:33.760 Thread 'MainThread': missing ScriptRunContext! This warning can be ignored when running in bare mode.\n",
            "2024-12-22 07:15:33.770 Thread 'MainThread': missing ScriptRunContext! This warning can be ignored when running in bare mode.\n",
            "2024-12-22 07:15:33.786 Thread 'MainThread': missing ScriptRunContext! This warning can be ignored when running in bare mode.\n",
            "2024-12-22 07:15:33.792 Thread 'MainThread': missing ScriptRunContext! This warning can be ignored when running in bare mode.\n",
            "2024-12-22 07:15:33.805 Thread 'MainThread': missing ScriptRunContext! This warning can be ignored when running in bare mode.\n",
            "2024-12-22 07:15:33.813 Thread 'MainThread': missing ScriptRunContext! This warning can be ignored when running in bare mode.\n",
            "2024-12-22 07:15:33.827 Thread 'MainThread': missing ScriptRunContext! This warning can be ignored when running in bare mode.\n",
            "2024-12-22 07:15:33.834 Thread 'MainThread': missing ScriptRunContext! This warning can be ignored when running in bare mode.\n",
            "2024-12-22 07:15:33.839 Thread 'MainThread': missing ScriptRunContext! This warning can be ignored when running in bare mode.\n",
            "2024-12-22 07:15:33.846 Thread 'MainThread': missing ScriptRunContext! This warning can be ignored when running in bare mode.\n",
            "2024-12-22 07:15:34.073 Thread 'MainThread': missing ScriptRunContext! This warning can be ignored when running in bare mode.\n",
            "2024-12-22 07:15:34.078 Thread 'MainThread': missing ScriptRunContext! This warning can be ignored when running in bare mode.\n",
            "2024-12-22 07:15:34.082 \n",
            "Calling `st.pyplot()` without providing a figure argument has been deprecated\n",
            "and will be removed in a later version as it requires the use of Matplotlib's\n",
            "global figure object, which is not thread-safe.\n",
            "\n",
            "To future-proof this code, you should pass in a figure as shown below:\n",
            "\n",
            "```python\n",
            "fig, ax = plt.subplots()\n",
            "ax.scatter([1, 2, 3], [1, 2, 3])\n",
            "# other plotting actions...\n",
            "st.pyplot(fig)\n",
            "```\n",
            "\n",
            "If you have a specific use case that requires this functionality, please let us\n",
            "know via [issue on Github](https://github.com/streamlit/streamlit/issues).\n",
            "\n",
            "2024-12-22 07:15:34.090 Thread 'MainThread': missing ScriptRunContext! This warning can be ignored when running in bare mode.\n",
            "2024-12-22 07:15:37.422 Thread 'MainThread': missing ScriptRunContext! This warning can be ignored when running in bare mode.\n",
            "2024-12-22 07:15:37.429 Thread 'MainThread': missing ScriptRunContext! This warning can be ignored when running in bare mode.\n",
            "2024-12-22 07:15:37.434 Thread 'MainThread': missing ScriptRunContext! This warning can be ignored when running in bare mode.\n",
            "2024-12-22 07:15:37.437 Thread 'MainThread': missing ScriptRunContext! This warning can be ignored when running in bare mode.\n",
            "2024-12-22 07:15:37.485 Thread 'MainThread': missing ScriptRunContext! This warning can be ignored when running in bare mode.\n",
            "2024-12-22 07:15:37.487 Thread 'MainThread': missing ScriptRunContext! This warning can be ignored when running in bare mode.\n"
          ]
        },
        {
          "output_type": "execute_result",
          "data": {
            "text/plain": [
              "DeltaGenerator()"
            ]
          },
          "metadata": {},
          "execution_count": 35
        },
        {
          "output_type": "display_data",
          "data": {
            "text/plain": [
              "<Figure size 640x480 with 0 Axes>"
            ]
          },
          "metadata": {}
        }
      ]
    },
    {
      "cell_type": "code",
      "source": [],
      "metadata": {
        "id": "fn7ZHsE1OJx-"
      },
      "execution_count": null,
      "outputs": []
    }
  ]
}